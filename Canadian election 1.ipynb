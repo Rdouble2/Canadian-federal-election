{
 "cells": [
  {
   "cell_type": "markdown",
   "metadata": {},
   "source": [
    "### Canadidan election"
   ]
  },
  {
   "cell_type": "markdown",
   "metadata": {},
   "source": [
    "# Data Cleaning"
   ]
  },
  {
   "cell_type": "code",
   "execution_count": 1,
   "metadata": {},
   "outputs": [],
   "source": [
    "import pandas as pd\n",
    "import numpy as np\n",
    "\n",
    "import matplotlib.pyplot as plt\n",
    "import re\n",
    "import html\n",
    "from nltk.corpus import stopwords\n",
    "from nltk.tokenize import word_tokenize\n",
    "from bs4 import BeautifulSoup\n",
    "import nltk\n",
    "from pylab import rcParams\n",
    "from sklearn.feature_extraction.text import CountVectorizer, TfidfVectorizer\n",
    "from sklearn.model_selection import train_test_split, KFold, GridSearchCV\n",
    "from sklearn.linear_model import LogisticRegression\n",
    "from sklearn.metrics import accuracy_score\n",
    "from sklearn.neighbors import KNeighborsClassifier\n",
    "from sklearn.naive_bayes import MultinomialNB\n",
    "from sklearn.svm import LinearSVC\n",
    "from sklearn.ensemble import RandomForestClassifier\n",
    "from xgboost import XGBClassifier\n",
    "from sklearn.tree import DecisionTreeClassifier\n",
    "from sklearn.preprocessing import LabelEncoder\n",
    "from sklearn.metrics import f1_score\n",
    "from sklearn.metrics import precision_score\n",
    "from sklearn import preprocessing as prep\n",
    "import seaborn as sns\n",
    "from sklearn.metrics import confusion_matrix \n",
    "from sklearn.preprocessing import StandardScaler\n",
    "from sklearn.model_selection import RepeatedStratifiedKFold"
   ]
  },
  {
   "cell_type": "code",
   "execution_count": 2,
   "metadata": {},
   "outputs": [],
   "source": [
    "sentiment = pd.read_csv('sentiment_analysis.csv')\n",
    "election = pd.read_csv('Canadian_elections_2021.csv')"
   ]
  },
  {
   "cell_type": "code",
   "execution_count": null,
   "metadata": {},
   "outputs": [],
   "source": []
  },
  {
   "cell_type": "code",
   "execution_count": 3,
   "metadata": {},
   "outputs": [],
   "source": [
    "## def function\n",
    "# remove the html tags and attributes (/<>)\n",
    "def html_tags_attributes(df):\n",
    "    text=BeautifulSoup(df,'html.parser')\n",
    "    return text.get_text()"
   ]
  },
  {
   "cell_type": "code",
   "execution_count": 4,
   "metadata": {},
   "outputs": [],
   "source": [
    "## apply 到DF\n"
   ]
  },
  {
   "cell_type": "code",
   "execution_count": 5,
   "metadata": {},
   "outputs": [],
   "source": [
    "sentiment['text'] = sentiment[\"text\"].apply(html_tags_attributes)\n",
    "election['text'] = election[\"text\"].apply(html_tags_attributes)"
   ]
  },
  {
   "cell_type": "code",
   "execution_count": 6,
   "metadata": {},
   "outputs": [],
   "source": [
    "## remove the HTML character code are replaced by ASCII equivalent\n",
    "\n",
    "def html_ASCII(df):\n",
    "    text_remove = html.unescape(df)\n",
    "    return text_remove"
   ]
  },
  {
   "cell_type": "code",
   "execution_count": 7,
   "metadata": {},
   "outputs": [],
   "source": [
    "sentiment['text'] = sentiment[\"text\"].apply(html_ASCII)\n",
    "election['text'] = election[\"text\"].apply(html_ASCII)"
   ]
  },
  {
   "cell_type": "code",
   "execution_count": 8,
   "metadata": {},
   "outputs": [],
   "source": [
    "## remove the URL\n",
    "\n",
    "def urls(df):\n",
    "    df=re.sub(r\"http\\S+\",'', df)\n",
    "    return df"
   ]
  },
  {
   "cell_type": "code",
   "execution_count": 9,
   "metadata": {},
   "outputs": [],
   "source": [
    "sentiment['text'] = sentiment[\"text\"].apply(urls)\n",
    "election['text'] = election[\"text\"].apply(urls)"
   ]
  },
  {
   "cell_type": "code",
   "execution_count": 10,
   "metadata": {},
   "outputs": [],
   "source": [
    "## how to lower the text\n",
    "def lower_case(df):\n",
    "    df = df.lower()\n",
    "    return df"
   ]
  },
  {
   "cell_type": "code",
   "execution_count": 33,
   "metadata": {},
   "outputs": [],
   "source": [
    "election['text'] = election['text'].apply(lower_case)\n",
    "sentiment['text'] = sentiment[\"text\"].apply(lower_case)"
   ]
  },
  {
   "cell_type": "code",
   "execution_count": 34,
   "metadata": {},
   "outputs": [
    {
     "name": "stderr",
     "output_type": "stream",
     "text": [
      "[nltk_data] Downloading package stopwords to\n",
      "[nltk_data]     /Users/ningcansun/nltk_data...\n",
      "[nltk_data]   Package stopwords is already up-to-date!\n"
     ]
    }
   ],
   "source": [
    "nltk.download('stopwords')\n",
    "from nltk.corpus import stopwords\n",
    "stop_words = stopwords.words('english')"
   ]
  },
  {
   "cell_type": "code",
   "execution_count": 35,
   "metadata": {},
   "outputs": [],
   "source": [
    "election['text'] = election['text'].apply(lambda x: ' '.join([i for i in x.split()if i not in (stop_words)]))\n",
    "sentiment['text']= sentiment['text'].apply(lambda x: ' '.join([i for i in x.split() if i not in (stop_words)]))"
   ]
  },
  {
   "cell_type": "code",
   "execution_count": 36,
   "metadata": {},
   "outputs": [],
   "source": [
    "##emoji removed\n",
    "\n",
    "def emoji(df):\n",
    "    moji = re.compile( \"[\"\n",
    "        u\"\\U0001F300-\\U0001F5FF\"  # symbols\n",
    "        u\"\\U0001F600-\\U0001F64F\"  # face emotion\n",
    "        u\"\\U0001F1E0-\\U0001F1FF\"  # flags (because it is elections, so there must lots of people use canada's flag)\n",
    "        u\"\\U0001F680-\\U0001F6FF\"  # map\n",
    "         \"]+\",re.UNICODE)\n",
    "    return re.sub(moji,'',df)"
   ]
  },
  {
   "cell_type": "code",
   "execution_count": 37,
   "metadata": {},
   "outputs": [],
   "source": [
    "election['text'] = election['text'].apply(emoji)\n",
    "sentiment['text'] = sentiment['text'].apply(emoji)"
   ]
  },
  {
   "cell_type": "markdown",
   "metadata": {},
   "source": [
    "# EDA"
   ]
  },
  {
   "cell_type": "code",
   "execution_count": 38,
   "metadata": {},
   "outputs": [
    {
     "data": {
      "text/html": [
       "<div>\n",
       "<style scoped>\n",
       "    .dataframe tbody tr th:only-of-type {\n",
       "        vertical-align: middle;\n",
       "    }\n",
       "\n",
       "    .dataframe tbody tr th {\n",
       "        vertical-align: top;\n",
       "    }\n",
       "\n",
       "    .dataframe thead th {\n",
       "        text-align: right;\n",
       "    }\n",
       "</style>\n",
       "<table border=\"1\" class=\"dataframe\">\n",
       "  <thead>\n",
       "    <tr style=\"text-align: right;\">\n",
       "      <th></th>\n",
       "      <th>ID</th>\n",
       "      <th>text</th>\n",
       "      <th>label</th>\n",
       "    </tr>\n",
       "  </thead>\n",
       "  <tbody>\n",
       "    <tr>\n",
       "      <th>0</th>\n",
       "      <td>7.680980e+17</td>\n",
       "      <td>josh jenkins looking forward tab breeders crow...</td>\n",
       "      <td>1</td>\n",
       "    </tr>\n",
       "    <tr>\n",
       "      <th>1</th>\n",
       "      <td>7.680980e+17</td>\n",
       "      <td>rt @mianusmanjaved: congratulations pakistan b...</td>\n",
       "      <td>1</td>\n",
       "    </tr>\n",
       "    <tr>\n",
       "      <th>2</th>\n",
       "      <td>7.680980e+17</td>\n",
       "      <td>rt @pepalerts: september, @yesmag taking maine...</td>\n",
       "      <td>1</td>\n",
       "    </tr>\n",
       "    <tr>\n",
       "      <th>3</th>\n",
       "      <td>7.680980e+17</td>\n",
       "      <td>rt @david_gaibis: newly painted walls, thanks ...</td>\n",
       "      <td>1</td>\n",
       "    </tr>\n",
       "    <tr>\n",
       "      <th>4</th>\n",
       "      <td>7.680980e+17</td>\n",
       "      <td>rt @cedricfeschotte: excited announce: july 20...</td>\n",
       "      <td>1</td>\n",
       "    </tr>\n",
       "    <tr>\n",
       "      <th>...</th>\n",
       "      <td>...</td>\n",
       "      <td>...</td>\n",
       "      <td>...</td>\n",
       "    </tr>\n",
       "    <tr>\n",
       "      <th>550386</th>\n",
       "      <td>8.046170e+17</td>\n",
       "      <td>@goddesses_o can't stop watching her...mm. mor...</td>\n",
       "      <td>0</td>\n",
       "    </tr>\n",
       "    <tr>\n",
       "      <th>550387</th>\n",
       "      <td>8.046180e+17</td>\n",
       "      <td>poor old tom odell look like would know wrong ...</td>\n",
       "      <td>0</td>\n",
       "    </tr>\n",
       "    <tr>\n",
       "      <th>550388</th>\n",
       "      <td>8.046180e+17</td>\n",
       "      <td>#antsmasher smashed 7 ants awesome game!!!hjfjfi</td>\n",
       "      <td>1</td>\n",
       "    </tr>\n",
       "    <tr>\n",
       "      <th>550389</th>\n",
       "      <td>8.046180e+17</td>\n",
       "      <td>@lizhudston @kymwyllie @evasmiless @meanbok @l...</td>\n",
       "      <td>1</td>\n",
       "    </tr>\n",
       "    <tr>\n",
       "      <th>550390</th>\n",
       "      <td>8.046190e+17</td>\n",
       "      <td>bixbeat mixtape vol.2 great artiste join movem...</td>\n",
       "      <td>1</td>\n",
       "    </tr>\n",
       "  </tbody>\n",
       "</table>\n",
       "<p>550391 rows × 3 columns</p>\n",
       "</div>"
      ],
      "text/plain": [
       "                  ID                                               text  label\n",
       "0       7.680980e+17  josh jenkins looking forward tab breeders crow...      1\n",
       "1       7.680980e+17  rt @mianusmanjaved: congratulations pakistan b...      1\n",
       "2       7.680980e+17  rt @pepalerts: september, @yesmag taking maine...      1\n",
       "3       7.680980e+17  rt @david_gaibis: newly painted walls, thanks ...      1\n",
       "4       7.680980e+17  rt @cedricfeschotte: excited announce: july 20...      1\n",
       "...              ...                                                ...    ...\n",
       "550386  8.046170e+17  @goddesses_o can't stop watching her...mm. mor...      0\n",
       "550387  8.046180e+17  poor old tom odell look like would know wrong ...      0\n",
       "550388  8.046180e+17   #antsmasher smashed 7 ants awesome game!!!hjfjfi      1\n",
       "550389  8.046180e+17  @lizhudston @kymwyllie @evasmiless @meanbok @l...      1\n",
       "550390  8.046190e+17  bixbeat mixtape vol.2 great artiste join movem...      1\n",
       "\n",
       "[550391 rows x 3 columns]"
      ]
     },
     "execution_count": 38,
     "metadata": {},
     "output_type": "execute_result"
    }
   ],
   "source": [
    "sentiment"
   ]
  },
  {
   "cell_type": "code",
   "execution_count": 39,
   "metadata": {},
   "outputs": [
    {
     "data": {
      "text/html": [
       "<div>\n",
       "<style scoped>\n",
       "    .dataframe tbody tr th:only-of-type {\n",
       "        vertical-align: middle;\n",
       "    }\n",
       "\n",
       "    .dataframe tbody tr th {\n",
       "        vertical-align: top;\n",
       "    }\n",
       "\n",
       "    .dataframe thead th {\n",
       "        text-align: right;\n",
       "    }\n",
       "</style>\n",
       "<table border=\"1\" class=\"dataframe\">\n",
       "  <thead>\n",
       "    <tr style=\"text-align: right;\">\n",
       "      <th></th>\n",
       "      <th>text</th>\n",
       "      <th>sentiment</th>\n",
       "      <th>negative_reason</th>\n",
       "    </tr>\n",
       "  </thead>\n",
       "  <tbody>\n",
       "    <tr>\n",
       "      <th>0</th>\n",
       "      <td>canadian election power grab pm trudeau, yes -...</td>\n",
       "      <td>negative</td>\n",
       "      <td>calling election early</td>\n",
       "    </tr>\n",
       "    <tr>\n",
       "      <th>1</th>\n",
       "      <td>hope trudeau loses canadian election tomorrow ...</td>\n",
       "      <td>negative</td>\n",
       "      <td>covid</td>\n",
       "    </tr>\n",
       "    <tr>\n",
       "      <th>2</th>\n",
       "      <td>dear canadians, election test progressive are....</td>\n",
       "      <td>positive</td>\n",
       "      <td>NaN</td>\n",
       "    </tr>\n",
       "    <tr>\n",
       "      <th>3</th>\n",
       "      <td>canadian friends: never forget trudeau 2 years...</td>\n",
       "      <td>negative</td>\n",
       "      <td>calling election early</td>\n",
       "    </tr>\n",
       "    <tr>\n",
       "      <th>4</th>\n",
       "      <td>sorry @thejagmeetsingh voted #ndp life electio...</td>\n",
       "      <td>positive</td>\n",
       "      <td>NaN</td>\n",
       "    </tr>\n",
       "    <tr>\n",
       "      <th>...</th>\n",
       "      <td>...</td>\n",
       "      <td>...</td>\n",
       "      <td>...</td>\n",
       "    </tr>\n",
       "    <tr>\n",
       "      <th>997</th>\n",
       "      <td>absolutely horrible canada. forthcoming electi...</td>\n",
       "      <td>negative</td>\n",
       "      <td>others</td>\n",
       "    </tr>\n",
       "    <tr>\n",
       "      <th>998</th>\n",
       "      <td>@davidakin trudeau imposes gun control policie...</td>\n",
       "      <td>negative</td>\n",
       "      <td>gun control</td>\n",
       "    </tr>\n",
       "    <tr>\n",
       "      <th>999</th>\n",
       "      <td>canada election stolen thugs. uneducated goons...</td>\n",
       "      <td>negative</td>\n",
       "      <td>others</td>\n",
       "    </tr>\n",
       "    <tr>\n",
       "      <th>1000</th>\n",
       "      <td>o'toole amends platform gun control, questions...</td>\n",
       "      <td>negative</td>\n",
       "      <td>tell lies</td>\n",
       "    </tr>\n",
       "    <tr>\n",
       "      <th>1001</th>\n",
       "      <td>@justintrudeau stop lies, stop manipulation, s...</td>\n",
       "      <td>negative</td>\n",
       "      <td>tell lies</td>\n",
       "    </tr>\n",
       "  </tbody>\n",
       "</table>\n",
       "<p>1002 rows × 3 columns</p>\n",
       "</div>"
      ],
      "text/plain": [
       "                                                   text sentiment  \\\n",
       "0     canadian election power grab pm trudeau, yes -...  negative   \n",
       "1     hope trudeau loses canadian election tomorrow ...  negative   \n",
       "2     dear canadians, election test progressive are....  positive   \n",
       "3     canadian friends: never forget trudeau 2 years...  negative   \n",
       "4     sorry @thejagmeetsingh voted #ndp life electio...  positive   \n",
       "...                                                 ...       ...   \n",
       "997   absolutely horrible canada. forthcoming electi...  negative   \n",
       "998   @davidakin trudeau imposes gun control policie...  negative   \n",
       "999   canada election stolen thugs. uneducated goons...  negative   \n",
       "1000  o'toole amends platform gun control, questions...  negative   \n",
       "1001  @justintrudeau stop lies, stop manipulation, s...  negative   \n",
       "\n",
       "             negative_reason  \n",
       "0     calling election early  \n",
       "1                     covid   \n",
       "2                        NaN  \n",
       "3     calling election early  \n",
       "4                        NaN  \n",
       "...                      ...  \n",
       "997                   others  \n",
       "998              gun control  \n",
       "999                   others  \n",
       "1000               tell lies  \n",
       "1001               tell lies  \n",
       "\n",
       "[1002 rows x 3 columns]"
      ]
     },
     "execution_count": 39,
     "metadata": {},
     "output_type": "execute_result"
    }
   ],
   "source": [
    "election"
   ]
  },
  {
   "cell_type": "code",
   "execution_count": 40,
   "metadata": {},
   "outputs": [],
   "source": [
    "# I want to set some key words to represent the political parties\n",
    "# Use the for loop to find the whether each tweet text include the following keywords.\n",
    "# If it include in the keywords, then, append them in that party.\n",
    "def political_party(tweet_text):\n",
    "    final_party=[]\n",
    "    liberal_party=['justin','trudeau','liberal','liberalism','istandwithtrudeau','voteliberal']\n",
    "    conservative_party=['erin','toole','voteconservative','blue','cpc','conservative']\n",
    "    new_democratic_party=['ndp','ndp2021','ndpoverhaul','jagmeet','singh','jagmeetsingh','newdemocratic']\n",
    "    people_party=['ppc','voteppc','voteppc2021','maxime','bernier','maximebernier','people']\n",
    "    \n",
    "    # I have already set the blank list, which is'final_party', next to add in the blank list\n",
    "    for i in tweet_text:\n",
    "        if i in liberal_party:\n",
    "            final_party.append('liberal party')\n",
    "            ### print(\"detected\")\n",
    "        if i in conservative_party:\n",
    "            final_party.append('conservative party')\n",
    "        if i in new_democratic_party:\n",
    "            final_party.append('new democratic party')\n",
    "        if i in people_party:\n",
    "            final_party.append('ppc party')\n",
    "    # However, it may have one tweet mention more than one party groups. Then I need to select the first party\n",
    "    # The reason I choose the first mention party because the political that people more care about, the people will mention first\n",
    "    if len(final_party)>=1:\n",
    "        final_result=final_party[0]\n",
    "    # if there is no key word match to parties, then, return the 'not sure'  \n",
    "    if len(final_party)==0:\n",
    "        final_result = 'not sure'\n",
    "    \n",
    "    return final_result"
   ]
  },
  {
   "cell_type": "code",
   "execution_count": 41,
   "metadata": {},
   "outputs": [],
   "source": [
    "election_temp = election.copy()\n",
    "election_temp['text'] = election_temp['text'].str.split(' ')"
   ]
  },
  {
   "cell_type": "code",
   "execution_count": 42,
   "metadata": {},
   "outputs": [
    {
     "data": {
      "text/plain": [
       "'not sure'"
      ]
     },
     "execution_count": 42,
     "metadata": {},
     "output_type": "execute_result"
    }
   ],
   "source": [
    "political_party(election_temp['text'] )"
   ]
  },
  {
   "cell_type": "code",
   "execution_count": 43,
   "metadata": {},
   "outputs": [],
   "source": [
    "election_temp['political_party'] = ''\n"
   ]
  },
  {
   "cell_type": "code",
   "execution_count": 44,
   "metadata": {},
   "outputs": [],
   "source": [
    "for i in range(election_temp['text'].shape[0]):\n",
    "    election_temp['political_party'][i] = political_party(election_temp['text'][i])"
   ]
  },
  {
   "cell_type": "code",
   "execution_count": 45,
   "metadata": {},
   "outputs": [],
   "source": [
    "counts_political=pd.DataFrame(election_temp['political_party'].value_counts())\n"
   ]
  },
  {
   "cell_type": "code",
   "execution_count": 46,
   "metadata": {},
   "outputs": [
    {
     "data": {
      "text/html": [
       "<div>\n",
       "<style scoped>\n",
       "    .dataframe tbody tr th:only-of-type {\n",
       "        vertical-align: middle;\n",
       "    }\n",
       "\n",
       "    .dataframe tbody tr th {\n",
       "        vertical-align: top;\n",
       "    }\n",
       "\n",
       "    .dataframe thead th {\n",
       "        text-align: right;\n",
       "    }\n",
       "</style>\n",
       "<table border=\"1\" class=\"dataframe\">\n",
       "  <thead>\n",
       "    <tr style=\"text-align: right;\">\n",
       "      <th></th>\n",
       "      <th>political_party</th>\n",
       "    </tr>\n",
       "  </thead>\n",
       "  <tbody>\n",
       "    <tr>\n",
       "      <th>not sure</th>\n",
       "      <td>595</td>\n",
       "    </tr>\n",
       "    <tr>\n",
       "      <th>liberal party</th>\n",
       "      <td>252</td>\n",
       "    </tr>\n",
       "    <tr>\n",
       "      <th>conservative party</th>\n",
       "      <td>69</td>\n",
       "    </tr>\n",
       "    <tr>\n",
       "      <th>ppc party</th>\n",
       "      <td>60</td>\n",
       "    </tr>\n",
       "    <tr>\n",
       "      <th>new democratic party</th>\n",
       "      <td>26</td>\n",
       "    </tr>\n",
       "  </tbody>\n",
       "</table>\n",
       "</div>"
      ],
      "text/plain": [
       "                      political_party\n",
       "not sure                          595\n",
       "liberal party                     252\n",
       "conservative party                 69\n",
       "ppc party                          60\n",
       "new democratic party               26"
      ]
     },
     "execution_count": 46,
     "metadata": {},
     "output_type": "execute_result"
    }
   ],
   "source": [
    "counts_political"
   ]
  },
  {
   "cell_type": "code",
   "execution_count": null,
   "metadata": {},
   "outputs": [],
   "source": []
  },
  {
   "cell_type": "code",
   "execution_count": 49,
   "metadata": {},
   "outputs": [
    {
     "data": {
      "image/png": "[encoded data removed]",
      "text/plain": [
       "<Figure size 720x1080 with 1 Axes>"
      ]
     },
     "metadata": {
      "needs_background": "light"
     },
     "output_type": "display_data"
    }
   ],
   "source": [
    "plt.bar(counts_political.index,counts_political.political_party,color = ['pink','purple','orange','gray','green'])\n",
    "rcParams['figure.figsize']=(10,15)"
   ]
  },
  {
   "cell_type": "code",
   "execution_count": 51,
   "metadata": {},
   "outputs": [],
   "source": [
    "# through hashtag to find some information  #如何用# 去找一些information - 比如什么hashtag他们提到的更多\n",
    "\n",
    "#baba #lala\n",
    "\n",
    "temp_111 = sentiment['text']\n",
    "temp_list= temp_111.str.split('#')\n",
    "temp_1=[]\n",
    "for i in temp_list.keys():\n",
    "    temp_1 +=temp_list[i][1:]\n",
    "    \n",
    "temp_list_liberal = pd.Series(temp_1)\n",
    "all_hashtag_sentiment = temp_list_liberal.value_counts()"
   ]
  },
  {
   "cell_type": "code",
   "execution_count": 54,
   "metadata": {},
   "outputs": [
    {
     "data": {
      "text/html": [
       "<div>\n",
       "<style scoped>\n",
       "    .dataframe tbody tr th:only-of-type {\n",
       "        vertical-align: middle;\n",
       "    }\n",
       "\n",
       "    .dataframe tbody tr th {\n",
       "        vertical-align: top;\n",
       "    }\n",
       "\n",
       "    .dataframe thead th {\n",
       "        text-align: right;\n",
       "    }\n",
       "</style>\n",
       "<table border=\"1\" class=\"dataframe\">\n",
       "  <thead>\n",
       "    <tr style=\"text-align: right;\">\n",
       "      <th></th>\n",
       "      <th>0</th>\n",
       "    </tr>\n",
       "  </thead>\n",
       "  <tbody>\n",
       "    <tr>\n",
       "      <th>trecru</th>\n",
       "      <td>14184</td>\n",
       "    </tr>\n",
       "    <tr>\n",
       "      <th>pushawardskathniels</th>\n",
       "      <td>964</td>\n",
       "    </tr>\n",
       "    <tr>\n",
       "      <th>pjnet</th>\n",
       "      <td>773</td>\n",
       "    </tr>\n",
       "    <tr>\n",
       "      <th>hiring</th>\n",
       "      <td>667</td>\n",
       "    </tr>\n",
       "    <tr>\n",
       "      <th>quote</th>\n",
       "      <td>623</td>\n",
       "    </tr>\n",
       "    <tr>\n",
       "      <th>love</th>\n",
       "      <td>573</td>\n",
       "    </tr>\n",
       "    <tr>\n",
       "      <th>funny</th>\n",
       "      <td>505</td>\n",
       "    </tr>\n",
       "    <tr>\n",
       "      <th>sex</th>\n",
       "      <td>486</td>\n",
       "    </tr>\n",
       "    <tr>\n",
       "      <th>job</th>\n",
       "      <td>486</td>\n",
       "    </tr>\n",
       "    <tr>\n",
       "      <th>nationaldogday</th>\n",
       "      <td>449</td>\n",
       "    </tr>\n",
       "  </tbody>\n",
       "</table>\n",
       "</div>"
      ],
      "text/plain": [
       "                         0\n",
       "trecru               14184\n",
       "pushawardskathniels    964\n",
       "pjnet                  773\n",
       "hiring                 667\n",
       "quote                  623\n",
       "love                   573\n",
       "funny                  505\n",
       "sex                    486\n",
       "job                    486\n",
       "nationaldogday         449"
      ]
     },
     "execution_count": 54,
     "metadata": {},
     "output_type": "execute_result"
    }
   ],
   "source": [
    "hash_top10_sentiment=pd.DataFrame(all_hashtag_sentiment).head(10)\n",
    "hash_top10_sentiment"
   ]
  },
  {
   "cell_type": "code",
   "execution_count": 55,
   "metadata": {},
   "outputs": [
    {
     "data": {
      "text/html": [
       "<div>\n",
       "<style scoped>\n",
       "    .dataframe tbody tr th:only-of-type {\n",
       "        vertical-align: middle;\n",
       "    }\n",
       "\n",
       "    .dataframe tbody tr th {\n",
       "        vertical-align: top;\n",
       "    }\n",
       "\n",
       "    .dataframe thead th {\n",
       "        text-align: right;\n",
       "    }\n",
       "</style>\n",
       "<table border=\"1\" class=\"dataframe\">\n",
       "  <thead>\n",
       "    <tr style=\"text-align: right;\">\n",
       "      <th></th>\n",
       "      <th>sentiment</th>\n",
       "    </tr>\n",
       "  </thead>\n",
       "  <tbody>\n",
       "    <tr>\n",
       "      <th>positive</th>\n",
       "      <td>615</td>\n",
       "    </tr>\n",
       "    <tr>\n",
       "      <th>negative</th>\n",
       "      <td>387</td>\n",
       "    </tr>\n",
       "  </tbody>\n",
       "</table>\n",
       "</div>"
      ],
      "text/plain": [
       "          sentiment\n",
       "positive        615\n",
       "negative        387"
      ]
     },
     "execution_count": 55,
     "metadata": {},
     "output_type": "execute_result"
    }
   ],
   "source": [
    "positive_negative = pd.DataFrame(election['sentiment'].value_counts())\n",
    "positive_negative"
   ]
  },
  {
   "cell_type": "code",
   "execution_count": 57,
   "metadata": {},
   "outputs": [
    {
     "data": {
      "image/png": "[encoded data removed]",
      "text/plain": [
       "<Figure size 504x504 with 1 Axes>"
      ]
     },
     "metadata": {},
     "output_type": "display_data"
    }
   ],
   "source": [
    "labels =['Positive','Negative']\n",
    "plt.pie(positive_negative['sentiment'],labels=labels)\n",
    "plt.legend()\n",
    "plt.gcf().set_size_inches(7,7)"
   ]
  },
  {
   "cell_type": "code",
   "execution_count": 58,
   "metadata": {},
   "outputs": [
    {
     "data": {
      "text/html": [
       "<div>\n",
       "<style scoped>\n",
       "    .dataframe tbody tr th:only-of-type {\n",
       "        vertical-align: middle;\n",
       "    }\n",
       "\n",
       "    .dataframe tbody tr th {\n",
       "        vertical-align: top;\n",
       "    }\n",
       "\n",
       "    .dataframe thead th {\n",
       "        text-align: right;\n",
       "    }\n",
       "</style>\n",
       "<table border=\"1\" class=\"dataframe\">\n",
       "  <thead>\n",
       "    <tr style=\"text-align: right;\">\n",
       "      <th></th>\n",
       "      <th>negative_reason</th>\n",
       "    </tr>\n",
       "  </thead>\n",
       "  <tbody>\n",
       "    <tr>\n",
       "      <th>others</th>\n",
       "      <td>149</td>\n",
       "    </tr>\n",
       "    <tr>\n",
       "      <th>calling election early</th>\n",
       "      <td>73</td>\n",
       "    </tr>\n",
       "    <tr>\n",
       "      <th>tell lies</th>\n",
       "      <td>61</td>\n",
       "    </tr>\n",
       "    <tr>\n",
       "      <th>covid</th>\n",
       "      <td>25</td>\n",
       "    </tr>\n",
       "    <tr>\n",
       "      <th>economy</th>\n",
       "      <td>20</td>\n",
       "    </tr>\n",
       "  </tbody>\n",
       "</table>\n",
       "</div>"
      ],
      "text/plain": [
       "                        negative_reason\n",
       "others                              149\n",
       "calling election early               73\n",
       "tell lies                            61\n",
       "covid                                25\n",
       "economy                              20"
      ]
     },
     "execution_count": 58,
     "metadata": {},
     "output_type": "execute_result"
    }
   ],
   "source": [
    "negative_reason = election['negative_reason'].value_counts()\n",
    "negative_reason = pd.DataFrame(negative_reason)\n",
    "negative_reason.head()"
   ]
  },
  {
   "cell_type": "code",
   "execution_count": 60,
   "metadata": {},
   "outputs": [
    {
     "data": {
      "text/plain": [
       "([0, 1, 2, 3, 4, 5, 6, 7, 8, 9, 10],\n",
       " [Text(0, 0, ''),\n",
       "  Text(0, 0, ''),\n",
       "  Text(0, 0, ''),\n",
       "  Text(0, 0, ''),\n",
       "  Text(0, 0, ''),\n",
       "  Text(0, 0, ''),\n",
       "  Text(0, 0, ''),\n",
       "  Text(0, 0, ''),\n",
       "  Text(0, 0, ''),\n",
       "  Text(0, 0, ''),\n",
       "  Text(0, 0, '')])"
      ]
     },
     "execution_count": 60,
     "metadata": {},
     "output_type": "execute_result"
    },
    {
     "data": {
      "image/png": "[encoded data removed]",
      "text/plain": [
       "<Figure size 2160x720 with 1 Axes>"
      ]
     },
     "metadata": {
      "needs_background": "light"
     },
     "output_type": "display_data"
    }
   ],
   "source": [
    "plt.barh(negative_reason.index,negative_reason['negative_reason'])\n",
    "rcParams['figure.figsize']=(30, 10)\n",
    "plt.xticks(fontsize=30)\n",
    "plt.yticks(fontsize=30)\n"
   ]
  },
  {
   "cell_type": "markdown",
   "metadata": {},
   "source": [
    "# Model"
   ]
  },
  {
   "cell_type": "code",
   "execution_count": 62,
   "metadata": {},
   "outputs": [],
   "source": [
    "X=sentiment['text'].copy()\n",
    "y=sentiment['label'].copy()"
   ]
  },
  {
   "cell_type": "code",
   "execution_count": 66,
   "metadata": {},
   "outputs": [],
   "source": [
    "## split, train_size 一定要占比大一点， test size 占比。 ---》 因为我们要花更多的data去训练模型\n",
    "X_train, X_test, y_train, y_test = train_test_split(X,y, train_size = 0.7, test_size = 0.3)"
   ]
  },
  {
   "cell_type": "code",
   "execution_count": 70,
   "metadata": {},
   "outputs": [],
   "source": [
    "# Bag of words Feature --- 一定要看懂\n",
    "\n",
    "bag_of_words = CountVectorizer()\n",
    "X_train_word = bag_of_words.fit_transform(X_train)\n",
    "X_test_word = bag_of_words.transform(X_test)\n"
   ]
  },
  {
   "cell_type": "code",
   "execution_count": 71,
   "metadata": {},
   "outputs": [],
   "source": [
    "## TF-IDF\n",
    "tf_idf = TfidfVectorizer()\n",
    "X_train_tf = tf_idf.fit_transform(X_train)\n",
    "X_test_tf = tf_idf.transform(X_test)"
   ]
  },
  {
   "cell_type": "code",
   "execution_count": null,
   "metadata": {},
   "outputs": [],
   "source": [
    "# logistic regression"
   ]
  },
  {
   "cell_type": "code",
   "execution_count": 72,
   "metadata": {},
   "outputs": [
    {
     "name": "stderr",
     "output_type": "stream",
     "text": [
      "/Users/ningcansun/opt/anaconda3/lib/python3.8/site-packages/sklearn/linear_model/_logistic.py:814: ConvergenceWarning: lbfgs failed to converge (status=1):\n",
      "STOP: TOTAL NO. of ITERATIONS REACHED LIMIT.\n",
      "\n",
      "Increase the number of iterations (max_iter) or scale the data as shown in:\n",
      "    https://scikit-learn.org/stable/modules/preprocessing.html\n",
      "Please also refer to the documentation for alternative solver options:\n",
      "    https://scikit-learn.org/stable/modules/linear_model.html#logistic-regression\n",
      "  n_iter_i = _check_optimize_result(\n"
     ]
    },
    {
     "data": {
      "text/plain": [
       "LogisticRegression()"
      ]
     },
     "execution_count": 72,
     "metadata": {},
     "output_type": "execute_result"
    }
   ],
   "source": [
    "### bag of words in Logistic regression\n",
    "\n",
    "logis = LogisticRegression()\n",
    "logis.fit(X_train_word, y_train)"
   ]
  },
  {
   "cell_type": "code",
   "execution_count": 74,
   "metadata": {},
   "outputs": [],
   "source": [
    "# 我们用X_train_word  和y_train 建立的模型 然后去预测X_test_word  的y值与真实的y的区别\n",
    "train_prediction_word_logis = logis.predict(X_train_word)\n",
    "test_prediction_word_logis = logis.predict(X_test_word)\n",
    "# we already predict the y "
   ]
  },
  {
   "cell_type": "code",
   "execution_count": 76,
   "metadata": {},
   "outputs": [
    {
     "data": {
      "text/plain": [
       "98.74816039535602"
      ]
     },
     "execution_count": 76,
     "metadata": {},
     "output_type": "execute_result"
    }
   ],
   "source": [
    "# find the accuracy of the true Y_train and the predict y\n",
    "ACC_train_word_logis = accuracy_score(y_train, train_prediction_word_logis)*100\n",
    "ACC_train_word_logis"
   ]
  },
  {
   "cell_type": "code",
   "execution_count": 77,
   "metadata": {},
   "outputs": [
    {
     "data": {
      "text/plain": [
       "97.48482903135938"
      ]
     },
     "execution_count": 77,
     "metadata": {},
     "output_type": "execute_result"
    }
   ],
   "source": [
    "## 65% - 75% 都是好的 \n",
    "### 90% + overfiting\n",
    "### 65% - underfiting\n",
    "ACC_test_word_logis = accuracy_score(y_test, test_prediction_word_logis)*100\n",
    "ACC_test_word_logis"
   ]
  },
  {
   "cell_type": "code",
   "execution_count": 78,
   "metadata": {},
   "outputs": [
    {
     "name": "stderr",
     "output_type": "stream",
     "text": [
      "/Users/ningcansun/opt/anaconda3/lib/python3.8/site-packages/sklearn/linear_model/_logistic.py:814: ConvergenceWarning: lbfgs failed to converge (status=1):\n",
      "STOP: TOTAL NO. of ITERATIONS REACHED LIMIT.\n",
      "\n",
      "Increase the number of iterations (max_iter) or scale the data as shown in:\n",
      "    https://scikit-learn.org/stable/modules/preprocessing.html\n",
      "Please also refer to the documentation for alternative solver options:\n",
      "    https://scikit-learn.org/stable/modules/linear_model.html#logistic-regression\n",
      "  n_iter_i = _check_optimize_result(\n"
     ]
    },
    {
     "data": {
      "text/plain": [
       "LogisticRegression()"
      ]
     },
     "execution_count": 78,
     "metadata": {},
     "output_type": "execute_result"
    }
   ],
   "source": [
    "### tf-idf\n",
    "logis = LogisticRegression()\n",
    "logis.fit(X_train_tf,y_train)\n"
   ]
  },
  {
   "cell_type": "code",
   "execution_count": 82,
   "metadata": {},
   "outputs": [],
   "source": [
    "train_prediction_tf_logis = logis.predict(X_train_tf)\n",
    "test_prediction_tf_logis = logis.predict(X_test_tf)"
   ]
  },
  {
   "cell_type": "code",
   "execution_count": 83,
   "metadata": {},
   "outputs": [
    {
     "data": {
      "text/plain": [
       "98.00167673312171"
      ]
     },
     "execution_count": 83,
     "metadata": {},
     "output_type": "execute_result"
    }
   ],
   "source": [
    "ACC_train_tf_logis = accuracy_score(y_train, train_prediction_tf_logis)*100\n",
    "ACC_train_tf_logis"
   ]
  },
  {
   "cell_type": "code",
   "execution_count": 84,
   "metadata": {},
   "outputs": [
    {
     "data": {
      "text/plain": [
       "97.23712738768639"
      ]
     },
     "execution_count": 84,
     "metadata": {},
     "output_type": "execute_result"
    }
   ],
   "source": [
    "ACC_test_tf_logis = accuracy_score(y_test, test_prediction_tf_logis)*100\n",
    "ACC_test_tf_logis"
   ]
  },
  {
   "cell_type": "code",
   "execution_count": 85,
   "metadata": {},
   "outputs": [
    {
     "data": {
      "text/plain": [
       "KNeighborsClassifier()"
      ]
     },
     "execution_count": 85,
     "metadata": {},
     "output_type": "execute_result"
    }
   ],
   "source": [
    "#KNN\n",
    "knn=KNeighborsClassifier()\n",
    "knn.fit(X_train_word,y_train)"
   ]
  },
  {
   "cell_type": "code",
   "execution_count": null,
   "metadata": {},
   "outputs": [],
   "source": [
    "train_prediction_word_knn = knn.predict(X_train_word)\n",
    "test_prediction_word_knn = knn.predict(X_test_word)"
   ]
  },
  {
   "cell_type": "code",
   "execution_count": null,
   "metadata": {},
   "outputs": [],
   "source": [
    "ACC_train_word_knn = accuracy_score(y_train, train_prediction_word_knn)*100\n",
    "ACC_train_word_knn"
   ]
  },
  {
   "cell_type": "code",
   "execution_count": null,
   "metadata": {},
   "outputs": [],
   "source": [
    "ACC_test_word_knn = accuracy_score(y_test, test_prediction_word_knn)*100\n",
    "ACC_test_word_knn"
   ]
  },
  {
   "cell_type": "code",
   "execution_count": 87,
   "metadata": {},
   "outputs": [],
   "source": [
    "# Naive Bayes"
   ]
  },
  {
   "cell_type": "code",
   "execution_count": 88,
   "metadata": {},
   "outputs": [
    {
     "data": {
      "text/plain": [
       "MultinomialNB()"
      ]
     },
     "execution_count": 88,
     "metadata": {},
     "output_type": "execute_result"
    }
   ],
   "source": [
    "nb = MultinomialNB()\n",
    "nb.fit(X_train_word, y_train)"
   ]
  },
  {
   "cell_type": "code",
   "execution_count": null,
   "metadata": {},
   "outputs": [],
   "source": [
    "# SVM"
   ]
  },
  {
   "cell_type": "code",
   "execution_count": 89,
   "metadata": {},
   "outputs": [
    {
     "data": {
      "text/plain": [
       "LinearSVC()"
      ]
     },
     "execution_count": 89,
     "metadata": {},
     "output_type": "execute_result"
    }
   ],
   "source": [
    "svm = LinearSVC()\n",
    "svm.fit(X_train_word, y_train)"
   ]
  },
  {
   "cell_type": "code",
   "execution_count": null,
   "metadata": {},
   "outputs": [],
   "source": [
    "# decision tree"
   ]
  },
  {
   "cell_type": "code",
   "execution_count": null,
   "metadata": {},
   "outputs": [],
   "source": [
    "tree = DecisionTreeClassifier()\n",
    "tree.fit(X_train_word,y_train)"
   ]
  },
  {
   "cell_type": "code",
   "execution_count": null,
   "metadata": {},
   "outputs": [],
   "source": [
    "# random forest"
   ]
  },
  {
   "cell_type": "code",
   "execution_count": null,
   "metadata": {},
   "outputs": [],
   "source": [
    "rf = RandomForestClassifier()"
   ]
  },
  {
   "cell_type": "code",
   "execution_count": null,
   "metadata": {},
   "outputs": [],
   "source": []
  },
  {
   "cell_type": "code",
   "execution_count": null,
   "metadata": {},
   "outputs": [],
   "source": []
  }
 ],
 "metadata": {
  "kernelspec": {
   "display_name": "Python 3",
   "language": "python",
   "name": "python3"
  },
  "language_info": {
   "codemirror_mode": {
    "name": "ipython",
    "version": 3
   },
   "file_extension": ".py",
   "mimetype": "text/x-python",
   "name": "python",
   "nbconvert_exporter": "python",
   "pygments_lexer": "ipython3",
   "version": "3.7.6"
  }
 },
 "nbformat": 4,
 "nbformat_minor": 5
}
